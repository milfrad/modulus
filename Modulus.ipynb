{
 "cells": [
  {
   "cell_type": "code",
   "execution_count": 1,
   "metadata": {},
   "outputs": [
    {
     "name": "stderr",
     "output_type": "stream",
     "text": [
      "\n",
      "Attaching package: 'dplyr'\n",
      "\n",
      "The following objects are masked from 'package:plyr':\n",
      "\n",
      "    arrange, count, desc, failwith, id, mutate, rename, summarise,\n",
      "    summarize\n",
      "\n",
      "The following objects are masked from 'package:stats':\n",
      "\n",
      "    filter, lag\n",
      "\n",
      "The following objects are masked from 'package:base':\n",
      "\n",
      "    intersect, setdiff, setequal, union\n",
      "\n",
      "Warning message:\n",
      "\"package 'shiny' was built under R version 3.4.4\""
     ]
    }
   ],
   "source": [
    "# This is the analysis to determine the youngs modulus of thin film and the fitting parameter alpha for several models from nanoindentation at several depths.\n",
    "\n",
    "# Load usual suspects:\n",
    "library(plyr)\n",
    "library(ggplot2)\n",
    "library(dplyr)\n",
    "library(tidyr)\n",
    "library(stringr) #operations with strings\n",
    "library(shiny) #nice interactive interface"
   ]
  },
  {
   "cell_type": "code",
   "execution_count": 2,
   "metadata": {},
   "outputs": [],
   "source": [
    "# Define path to file\n",
    "setwd(\"C:/Users/David Framil/Results\")"
   ]
  },
  {
   "cell_type": "code",
   "execution_count": 3,
   "metadata": {},
   "outputs": [],
   "source": [
    "#Load list of names and filter to keep only txt files:\n",
    "Filenames <- list.files()\n",
    "Nanoindentation_files <- Filenames[grepl(\"^.+(.txt)$\",Filenames)] #grab anything that finishes in \".txt\""
   ]
  },
  {
   "cell_type": "code",
   "execution_count": 4,
   "metadata": {},
   "outputs": [],
   "source": [
    "#Define a load_csv function that loads all the files, including other data such as sample name, thickness, origin and voltage. These objetcs are already converted to their particular type (string, numeric, etc)\n",
    "load_csv <- function(x) {\n",
    "  sample <- as.list(sapply(strsplit(x, \"_\"), \"[\", 1)) # use selection operator \"[\" to select which element of the list is extracted\n",
    "  thickness <- as.list(str_extract(sapply(strsplit(x, \"_\"), \"[\", 2), \"[[:digit:]]+[^[:alpha:]]+\"))\n",
    "  origin <- as.list(sapply(strsplit(x, \"_\"), \"[\", 3))\n",
    "  voltage <- as.list(str_extract(sapply(strsplit(x, \"_\"), \"[\", 4), \"^[^V]*\")) # match anything from the beginning of the string until finding a V\n",
    "  out <- read.table(x, sep = \"\\t\", skip = 2, stringsAsFactors = FALSE, header = TRUE)\n",
    "  cbind(out, `Sample name`=toString(sample), `Thickness (nm)`=as.numeric(thickness), Origin=toString(origin), `Voltage (V)`=as.numeric(voltage)) # combine per x and rename columns\n",
    "}\n",
    "\n",
    "Nanoindentation <- lapply(Nanoindentation_files, load_csv) # apply the defined function to all the filenames found in the folder\n",
    "Nanoindentation <- ldply(Nanoindentation) # reconvert list back to dataframe"
   ]
  },
  {
   "cell_type": "code",
   "execution_count": 5,
   "metadata": {},
   "outputs": [],
   "source": [
    "#Sort out dataframe to keep sample name, reduced modulus, hardness, effective indentation depth, thickness and voltage\n",
    "Nanoindentation <- Nanoindentation[,c(\"Sample name\", \"heff.nm.\", \"Er.GPa.\", \"H.GPa.\", \"Thickness (nm)\", \"Voltage (V)\")]\n",
    "names(Nanoindentation) <- c(\"Sample name\", \"heff (nm)\", \"Er\", \"H (GPa)\", \"Thickness (nm)\", \"Voltage (V)\")"
   ]
  },
  {
   "cell_type": "code",
   "execution_count": 6,
   "metadata": {},
   "outputs": [
    {
     "data": {
      "text/html": [
       "<table>\n",
       "<thead><tr><th scope=col>Sample name</th><th scope=col>heff (nm)</th><th scope=col>Er</th><th scope=col>H (GPa)</th><th scope=col>Thickness (nm)</th><th scope=col>Voltage (V)</th></tr></thead>\n",
       "<tbody>\n",
       "\t<tr><td>#71      </td><td> 5.078496</td><td>42.34258 </td><td>3.351022 </td><td>110      </td><td>-60      </td></tr>\n",
       "\t<tr><td>#71      </td><td>10.240673</td><td>43.98646 </td><td>3.345392 </td><td>110      </td><td>-60      </td></tr>\n",
       "\t<tr><td>#71      </td><td>15.077749</td><td>53.45412 </td><td>3.567704 </td><td>110      </td><td>-60      </td></tr>\n",
       "\t<tr><td>#71      </td><td>20.141966</td><td>55.29207 </td><td>3.600231 </td><td>110      </td><td>-60      </td></tr>\n",
       "\t<tr><td>#71      </td><td>25.090677</td><td>64.68499 </td><td>3.881134 </td><td>110      </td><td>-60      </td></tr>\n",
       "\t<tr><td>#71      </td><td>30.175756</td><td>64.73401 </td><td>4.097106 </td><td>110      </td><td>-60      </td></tr>\n",
       "\t<tr><td>#71      </td><td>35.096534</td><td>72.77380 </td><td>4.066850 </td><td>110      </td><td>-60      </td></tr>\n",
       "\t<tr><td>#71      </td><td>40.162019</td><td>76.89330 </td><td>4.269149 </td><td>110      </td><td>-60      </td></tr>\n",
       "\t<tr><td>#71      </td><td>45.366739</td><td>82.16662 </td><td>4.600505 </td><td>110      </td><td>-60      </td></tr>\n",
       "\t<tr><td>#71      </td><td>50.317339</td><td>87.35372 </td><td>4.942339 </td><td>110      </td><td>-60      </td></tr>\n",
       "</tbody>\n",
       "</table>\n"
      ],
      "text/latex": [
       "\\begin{tabular}{r|llllll}\n",
       " Sample name & heff (nm) & Er & H (GPa) & Thickness (nm) & Voltage (V)\\\\\n",
       "\\hline\n",
       "\t \\#71     &  5.078496 & 42.34258  & 3.351022  & 110       & -60      \\\\\n",
       "\t \\#71     & 10.240673 & 43.98646  & 3.345392  & 110       & -60      \\\\\n",
       "\t \\#71     & 15.077749 & 53.45412  & 3.567704  & 110       & -60      \\\\\n",
       "\t \\#71     & 20.141966 & 55.29207  & 3.600231  & 110       & -60      \\\\\n",
       "\t \\#71     & 25.090677 & 64.68499  & 3.881134  & 110       & -60      \\\\\n",
       "\t \\#71     & 30.175756 & 64.73401  & 4.097106  & 110       & -60      \\\\\n",
       "\t \\#71     & 35.096534 & 72.77380  & 4.066850  & 110       & -60      \\\\\n",
       "\t \\#71     & 40.162019 & 76.89330  & 4.269149  & 110       & -60      \\\\\n",
       "\t \\#71     & 45.366739 & 82.16662  & 4.600505  & 110       & -60      \\\\\n",
       "\t \\#71     & 50.317339 & 87.35372  & 4.942339  & 110       & -60      \\\\\n",
       "\\end{tabular}\n"
      ],
      "text/markdown": [
       "\n",
       "Sample name | heff (nm) | Er | H (GPa) | Thickness (nm) | Voltage (V) | \n",
       "|---|---|---|---|---|---|---|---|---|---|\n",
       "| #71       |  5.078496 | 42.34258  | 3.351022  | 110       | -60       | \n",
       "| #71       | 10.240673 | 43.98646  | 3.345392  | 110       | -60       | \n",
       "| #71       | 15.077749 | 53.45412  | 3.567704  | 110       | -60       | \n",
       "| #71       | 20.141966 | 55.29207  | 3.600231  | 110       | -60       | \n",
       "| #71       | 25.090677 | 64.68499  | 3.881134  | 110       | -60       | \n",
       "| #71       | 30.175756 | 64.73401  | 4.097106  | 110       | -60       | \n",
       "| #71       | 35.096534 | 72.77380  | 4.066850  | 110       | -60       | \n",
       "| #71       | 40.162019 | 76.89330  | 4.269149  | 110       | -60       | \n",
       "| #71       | 45.366739 | 82.16662  | 4.600505  | 110       | -60       | \n",
       "| #71       | 50.317339 | 87.35372  | 4.942339  | 110       | -60       | \n",
       "\n",
       "\n"
      ],
      "text/plain": [
       "   Sample name heff (nm) Er       H (GPa)  Thickness (nm) Voltage (V)\n",
       "1  #71          5.078496 42.34258 3.351022 110            -60        \n",
       "2  #71         10.240673 43.98646 3.345392 110            -60        \n",
       "3  #71         15.077749 53.45412 3.567704 110            -60        \n",
       "4  #71         20.141966 55.29207 3.600231 110            -60        \n",
       "5  #71         25.090677 64.68499 3.881134 110            -60        \n",
       "6  #71         30.175756 64.73401 4.097106 110            -60        \n",
       "7  #71         35.096534 72.77380 4.066850 110            -60        \n",
       "8  #71         40.162019 76.89330 4.269149 110            -60        \n",
       "9  #71         45.366739 82.16662 4.600505 110            -60        \n",
       "10 #71         50.317339 87.35372 4.942339 110            -60        "
      ]
     },
     "metadata": {},
     "output_type": "display_data"
    }
   ],
   "source": [
    "#Check the data\n",
    "head(Nanoindentation, 10)"
   ]
  },
  {
   "cell_type": "code",
   "execution_count": 7,
   "metadata": {},
   "outputs": [],
   "source": [
    "#Function to define the stats output of the non-linear analysis. The input is a summary.lm object\n",
    "fitting_summary <- function(nls) { \n",
    "  out <- c(nls$coefficients[1],\n",
    "           nls$coefficients[2],\n",
    "           nls$coefficients[3],\n",
    "           nls$coefficients[4])\n",
    "  names(out) <- c(\"Ef\",\"alpha\",\"Ef error\", \"alpha error\")\n",
    "  return(out)}"
   ]
  },
  {
   "cell_type": "code",
   "execution_count": 8,
   "metadata": {},
   "outputs": [],
   "source": [
    "#Function to round whatever number to the nearest 5 (eg, 5, 10, 15, etc)\n",
    "mround <- function(x,base){ \n",
    "  base*round(x/base) \n",
    "} "
   ]
  },
  {
   "cell_type": "code",
   "execution_count": 9,
   "metadata": {},
   "outputs": [],
   "source": [
    "#Function to add the voltage as column based on the sample names that exist in the Nanoindentation variable\n",
    "add_voltage <- function(x) {\n",
    "  x$`Voltage (V)` <- Nanoindentation$`Voltage (V)`[match(x$`Sample name`, Nanoindentation$`Sample name`)]\n",
    "  x\n",
    "}"
   ]
  },
  {
   "cell_type": "code",
   "execution_count": 10,
   "metadata": {},
   "outputs": [],
   "source": [
    "#Some definitions for the drop-down lists and interactive plottings\n",
    "models <- c(\"None\", \"Exponential\", \"Inverse exponential\", \"Doerner-Nix\", \"Inverse Doerner-Nix\")\n",
    "model_formulas <- c(\"\", \"y ~ (Es*(1-exp(-c*x)) + b*exp(-c*x))\", \"y ~ (b*Es)/(b*(1-exp(-c*x)) + Es*exp(-c*x))\", \"y ~ (b*Es)/(Es*(1-exp(-c/x)) + b*exp(-c/x))\", \"y ~ (b*(1-exp(-c/x)) + Es*exp(-c/x))\")\n",
    "model_initial_b <- c(\"\", rep(20,4))\n",
    "model_initial_c <- c(\"\", 2.5, 2.5, 0.1, 0.1)\n",
    "options_model <- data.frame(models, model_formulas, model_initial_b, model_initial_c)\n",
    "options_rep <- c(\"Experimental points\", \"Average + standard deviation\")"
   ]
  },
  {
   "cell_type": "code",
   "execution_count": 11,
   "metadata": {},
   "outputs": [],
   "source": [
    "#Function for plotting voltage in different tab (and getting error input if model does not exist)\n",
    "no_model <- function(x) {\n",
    "  if (x == \"None\") {\n",
    "    \"Please choose a fitting model to determine the Young's modulus\"\n",
    "  } else if (x == \"\") {\n",
    "    FALSE\n",
    "  } else {\n",
    "    NULL\n",
    "  }\n",
    "}"
   ]
  },
  {
   "cell_type": "code",
   "execution_count": 12,
   "metadata": {},
   "outputs": [],
   "source": [
    "Es <- 134.4 #Experimental Es of silicon at 300 uN x 24 indents, Berkovich"
   ]
  },
  {
   "cell_type": "code",
   "execution_count": 13,
   "metadata": {},
   "outputs": [],
   "source": [
    "#Extraction of coefficients for different model fittings according to antunes et al\n",
    "E_fit <- function(x, f, b_0, c_0){\n",
    "  x$y <- x$Er\n",
    "  x$x <- x$`heff (nm)`/x$`Thickness (nm)`\n",
    "  Results <- dlply(x, .(`Sample name`), function(n) nls(as.formula(as.character(f)), data = n, start = list(b = as.numeric(as.character(b_0)), c = as.numeric(as.character(c_0))), control = list(maxiter = 100000, minFactor = 1e-10, tol = 0.05))) #Group by sample name and fit the nonlinear model, result as list\n",
    "  Results <- llply(Results, summary) #apply the summary to each of the fittings per sample name. Returns a list\n",
    "  wrap_up <- list() #define empty list\n",
    "  for (i in 1:length(Results)) { #loop for all the sample names\n",
    "    wrap_up[[names(Results)[i]]] <- fitting_summary(Results[[i]]) #build a list that maps the fitted coefficients to the sample\n",
    "  }\n",
    "  Results <- ldply(wrap_up, .id = \"Sample name\") #combine back to dataframe\n",
    "  Results\n",
    "}"
   ]
  },
  {
   "cell_type": "code",
   "execution_count": 14,
   "metadata": {},
   "outputs": [],
   "source": [
    "#Define the shiny user interface\n",
    "modulusui <- shinyUI(\n",
    "  fluidPage(\n",
    "    titlePanel(\"Reduced modulus as a function of normalized indentation depth\"),\n",
    "    sidebarLayout(\n",
    "      sidebarPanel(selectInput(\"model\", label = \"Choose the model to fit the data:\",\n",
    "                               choices = options_model[1]),\n",
    "                   selectInput(\"rep\", label = \"Choose the type of representation:\",\n",
    "                               choices = options_rep)),\n",
    "      mainPanel(tabsetPanel(\n",
    "        tabPanel(\"Mechanical properties\", plotOutput(\"E_plot\")), \n",
    "        tabPanel(\"Voltage dependence\", plotOutput(\"V_plot\")), \n",
    "        tabPanel(\"Fitting results\", tableOutput(\"table\")))\n",
    "      )\n",
    "    )\n",
    "  )\n",
    ")"
   ]
  },
  {
   "cell_type": "code",
   "execution_count": 15,
   "metadata": {},
   "outputs": [],
   "source": [
    "#Define the interactive plottings\n",
    "modulusserver <- shinyServer(function(input, output){\n",
    "  output$E_plot <- renderPlot({ #main plot, reduced modulus VS depth\n",
    "    if (input$rep == options_rep[1]) { #experimental points representation\n",
    "      scatter_plot <- ggplot(Nanoindentation, aes(x=`heff (nm)`/`Thickness (nm)`, y=Er, color=`Sample name`)) + geom_point() + \n",
    "        scale_x_continuous(limits = c(0,0.5), breaks = seq(0, 0.5, 0.05)) + \n",
    "        scale_y_continuous(limits = c(0,100), breaks = seq(0, 100, 10)) + \n",
    "        xlab(\"h/t\") + ylab(\"Reduced Young's modulus (GPa)\") + \n",
    "        scale_color_discrete(name = \"Sample\") + \n",
    "        geom_hline(yintercept = 69.8, size = 1) + #theoretical value\n",
    "        geom_hline(yintercept = 134.4, size = 1) #limit value\n",
    "      if (input$model == options_model[1,1]) { #plot as is\n",
    "        scatter_plot\n",
    "      } else if (input$model != options_model[1,1]) { #plot as is + superpose a line fitted to the model selected\n",
    "        scatter_plot + geom_smooth(method = \"nls\", se = FALSE, fullrange = TRUE, \n",
    "                                   formula = as.formula(as.character(options_model[options_model$models==input$model,2])),\n",
    "                                   method.args = list(start = list(b = as.numeric(as.character(options_model[options_model$models==input$model,3])), c = as.numeric(as.character(options_model[options_model$models==input$model,4]))), control = list(maxiter = 100000, minFactor = 1e-10, tol = 0.05)))\n",
    "      }\n",
    "    } else if (input$rep == options_rep[2]) { #average + standard deviation representation\n",
    "      mean_plot <- Nanoindentation %>%\n",
    "        group_by(`Sample name`, mround(`heff (nm)`,5), `Thickness (nm)`) %>%\n",
    "        summarise(meany=mean(Er), sdy=sd(Er), meanx=mean(`heff (nm)`), sdx=sd(`heff (nm)`)) #construct a mean values dataframe centered around specific intervals of 5nm\n",
    "      \n",
    "      mean_plot <- data.frame(mean_plot)\n",
    "      names(mean_plot) <- c(\"Sample name\", \"heff (nm)\", \"Thickness (nm)\", \"meany\", \"sdy\", \"meanx\", \"sdx\")\n",
    "      \n",
    "      scatter_plot <- ggplot() + geom_point(data=mean_plot, aes(x=meanx/`Thickness (nm)`, y=meany, color=`Sample name`)) + \n",
    "        geom_errorbar(data=mean_plot, aes(x=meanx/`Thickness (nm)`, ymin=meany-sdy, ymax=meany+sdy, color=`Sample name`), width=0.005) + \n",
    "        geom_errorbarh(data=mean_plot, aes(x=meanx/`Thickness (nm)`, y=meany, xmin=meanx/`Thickness (nm)`-sdx/`Thickness (nm)`, xmax=meanx/`Thickness (nm)`+sdx/`Thickness (nm)`, color=`Sample name`), height=0.05) + \n",
    "        scale_x_continuous(limits = c(0,0.5), breaks = seq(0, 0.5, 0.05)) + \n",
    "        scale_y_continuous(limits = c(0,100), breaks = seq(0, 100, 10)) + \n",
    "        xlab(\"h/t\") + ylab(\"Reduced Young's modulus (GPa)\") + \n",
    "        scale_color_discrete(name = \"Sample\") + \n",
    "        geom_hline(yintercept = 69.8, size = 1) + \n",
    "        geom_hline(yintercept = 134.4, size = 1)\n",
    "      if (input$model == options_model[1,1]) {\n",
    "        scatter_plot\n",
    "      } else if (input$model != options_model[1,1]) {\n",
    "        scatter_plot + geom_smooth(data=Nanoindentation, aes(x=`heff (nm)`/`Thickness (nm)`, y=Er, color=`Sample name`), \n",
    "                                   method = \"nls\", se = FALSE, fullrange = TRUE, \n",
    "                                   formula = as.formula(as.character(options_model[options_model$models==input$model,2])),\n",
    "                                   method.args = list(start = list(b = as.numeric(as.character(options_model[options_model$models==input$model,3])), c = as.numeric(as.character(options_model[options_model$models==input$model,4]))), control = list(maxiter = 100000, minFactor = 1e-10, tol = 0.05)))\n",
    "      }\n",
    "    }\n",
    "  })\n",
    "  output$V_plot <- renderPlot({ #secondary plot, reduced modulus against voltage\n",
    "    validate(\n",
    "      need(input$model != \"None\", \"Please choose a model to fit the data\")\n",
    "    )\n",
    "    Results_voltage <- add_voltage(E_fit(Nanoindentation, options_model[options_model$models==input$model,2], options_model[options_model$models==input$model,3], options_model[options_model$models==input$model,4]))\n",
    "    ggplot(Results_voltage, aes(y=Ef, x=`Voltage (V)`)) + geom_point() + geom_errorbar(aes(ymin=Ef-`Ef error`, ymax=Ef+`Ef error`), width=0.005) + \n",
    "      scale_x_continuous(limits = c(-120,0), breaks = seq(0, -120, -20)) + \n",
    "      scale_y_continuous(limits = c(0,50), breaks = seq(0, 50, 10)) + \n",
    "      geom_smooth(method = \"nls\", se = FALSE, fullrange = TRUE, formula = y ~ b*abs(x)^n+c,\n",
    "                  method.args = list(start = list(n=1, b=5, c=20), control = list(maxiter = 100000, minFactor = 1e-10, tol = 0.05))) #fit to a general power law. Only interesting to have a visual depiction of the trend, not trying to reproduce any model whatsoever.\n",
    "  })\n",
    "  output$table <- renderTable({ #fitted parameters according to the selected fitting model\n",
    "    validate(\n",
    "      need(input$model != \"None\", \"Please choose a model to fit the data\")\n",
    "    )\n",
    "    Final_results <- add_voltage(E_fit(Nanoindentation, options_model[options_model$models==input$model,2], options_model[options_model$models==input$model,3], options_model[options_model$models==input$model,4]))\n",
    "    Final_results <- Final_results[,c(\"Sample name\", \"Ef\", \"Ef error\", \"Voltage (V)\")]\n",
    "    names(Final_results) <- c(\"Sample name\", \"Reduced Young's modulus (GPa)\", \"Fitting error (GPa)\", \"Voltage (V)\")\n",
    "    Final_results\n",
    "  })\n",
    "})"
   ]
  },
  {
   "cell_type": "code",
   "execution_count": 16,
   "metadata": {},
   "outputs": [],
   "source": [
    "#shinyApp(ui = modulusui, server = modulusserver) #uncheck to run the shiny application interface"
   ]
  },
  {
   "cell_type": "code",
   "execution_count": 17,
   "metadata": {},
   "outputs": [
    {
     "name": "stderr",
     "output_type": "stream",
     "text": [
      "Warning message:\n",
      "\"Removed 83 rows containing non-finite values (stat_smooth).\"Warning message:\n",
      "\"Removed 83 rows containing missing values (geom_point).\"Warning message:\n",
      "\"Removed 1 rows containing missing values (geom_hline).\""
     ]
    },
    {
     "data": {},
     "metadata": {},
     "output_type": "display_data"
    },
    {
     "name": "stderr",
     "output_type": "stream",
     "text": [
      "Warning message:\n",
      "\"Removed 8 rows containing missing values (geom_point).\"Warning message:\n",
      "\"Removed 8 rows containing missing values (geom_errorbar).\"Warning message:\n",
      "\"Removed 9 rows containing missing values (geom_errorbarh).\"Warning message:\n",
      "\"Removed 1 rows containing missing values (geom_hline).\""
     ]
    },
    {
     "data": {},
     "metadata": {},
     "output_type": "display_data"
    },
    {
     "data": {
      "image/png": "[encoded data removed]",
      "text/plain": [
       "plot without title"
      ]
     },
     "metadata": {},
     "output_type": "display_data"
    },
    {
     "data": {
      "image/png": "[encoded data removed]",
      "text/plain": [
       "plot without title"
      ]
     },
     "metadata": {},
     "output_type": "display_data"
    }
   ],
   "source": [
    "#Example of plots that will appear in the app\n",
    "\n",
    "par(mfrow=c(2,1))\n",
    "scatter_plot <- ggplot(Nanoindentation, aes(x=`heff (nm)`/`Thickness (nm)`, y=Er, color=`Sample name`)) + geom_point() + \n",
    "        scale_x_continuous(limits = c(0,0.5), breaks = seq(0, 0.5, 0.05)) + \n",
    "        scale_y_continuous(limits = c(0,100), breaks = seq(0, 100, 10)) + \n",
    "        xlab(\"h/t\") + ylab(\"Reduced Young's modulus (GPa)\") + \n",
    "        scale_color_discrete(name = \"Sample\") + \n",
    "        geom_hline(yintercept = 69.8, size = 1) + \n",
    "        geom_hline(yintercept = 134.4, size = 1)\n",
    "scatter_plot + geom_smooth(method = \"nls\", se = FALSE, fullrange = TRUE, \n",
    "                                   formula = y ~ (b*(1-exp(-c/x)) + Es*exp(-c/x)),\n",
    "                                   method.args = list(start = list(b = 20, c = 0.1), control = list(maxiter = 100000, minFactor = 1e-10, tol = 0.05)))\n",
    "\n",
    "mean_plot <- Nanoindentation %>%\n",
    "        group_by(`Sample name`, mround(`heff (nm)`,5), `Thickness (nm)`) %>%\n",
    "        summarise(meany=mean(Er), sdy=sd(Er), meanx=mean(`heff (nm)`), sdx=sd(`heff (nm)`)) #construct a mean values dataframe centered around specific intervals of 5nm\n",
    "      \n",
    "      mean_plot <- data.frame(mean_plot)\n",
    "      names(mean_plot) <- c(\"Sample name\", \"heff (nm)\", \"Thickness (nm)\", \"meany\", \"sdy\", \"meanx\", \"sdx\")\n",
    "      \n",
    "      scatter_mean_plot <- ggplot() + geom_point(data=mean_plot, aes(x=meanx/`Thickness (nm)`, y=meany, color=`Sample name`)) + \n",
    "        geom_errorbar(data=mean_plot, aes(x=meanx/`Thickness (nm)`, ymin=meany-sdy, ymax=meany+sdy, color=`Sample name`), width=0.005) + \n",
    "        geom_errorbarh(data=mean_plot, aes(x=meanx/`Thickness (nm)`, y=meany, xmin=meanx/`Thickness (nm)`-sdx/`Thickness (nm)`, xmax=meanx/`Thickness (nm)`+sdx/`Thickness (nm)`, color=`Sample name`), height=0.05) + \n",
    "        scale_x_continuous(limits = c(0,0.5), breaks = seq(0, 0.5, 0.05)) + \n",
    "        scale_y_continuous(limits = c(0,100), breaks = seq(0, 100, 10)) + \n",
    "        xlab(\"h/t\") + ylab(\"Reduced Young's modulus (GPa)\") + \n",
    "        scale_color_discrete(name = \"Sample\") + \n",
    "        geom_hline(yintercept = 69.8, size = 1) + \n",
    "        geom_hline(yintercept = 134.4, size = 1)\n",
    "scatter_mean_plot"
   ]
  },
  {
   "cell_type": "code",
   "execution_count": null,
   "metadata": {},
   "outputs": [],
   "source": []
  }
 ],
 "metadata": {
  "kernelspec": {
   "display_name": "R",
   "language": "R",
   "name": "ir"
  },
  "language_info": {
   "codemirror_mode": "r",
   "file_extension": ".r",
   "mimetype": "text/x-r-source",
   "name": "R",
   "pygments_lexer": "r",
   "version": "3.4.0"
  }
 },
 "nbformat": 4,
 "nbformat_minor": 2
}
